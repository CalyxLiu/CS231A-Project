{
  "cells": [
    {
      "cell_type": "markdown",
      "metadata": {
        "id": "HLgdyo1jgQmk"
      },
      "source": [
        "Copyright 2020 Google LLC.\n",
        "\n",
        "Licensed under the Apache License, Version 2.0 (the \\\"License\\\")"
      ]
    },
    {
      "cell_type": "code",
      "execution_count": null,
      "metadata": {
        "id": "2XCUxOexgRF7"
      },
      "outputs": [],
      "source": [
        "#@title License\n",
        "# Licensed under the Apache License, Version 2.0 (the \\\"License\\\");\n",
        "# you may not use this file except in compliance with the License.\n",
        "# You may obtain a copy of the License at\n",
        "#\n",
        "# https://www.apache.org/licenses/LICENSE-2.0\n",
        "#\n",
        "# Unless required by applicable law or agreed to in writing, software\n",
        "# distributed under the License is distributed on an \\\"AS IS\\\" BASIS,\n",
        "# WITHOUT WARRANTIES OR CONDITIONS OF ANY KIND, either express or implied.\n",
        "# See the License for the specific language governing permissions and\n",
        "# limitations under the License."
      ]
    },
    {
      "cell_type": "markdown",
      "source": [
        "# Load the Impressionist Datasets\n",
        "\n",
        "## First, download it from Kaggle and upload it to Google drive. Then, load it using the cells below."
      ],
      "metadata": {
        "id": "7pKFByTUq671"
      }
    },
    {
      "cell_type": "code",
      "source": [
        "from google.colab import drive\n",
        "drive.mount('/content/gdrive')"
      ],
      "metadata": {
        "colab": {
          "base_uri": "https://localhost:8080/"
        },
        "id": "HlVQwDymrDl0",
        "outputId": "bb4ca80b-52d0-462e-8024-394551300b7a"
      },
      "execution_count": 1,
      "outputs": [
        {
          "output_type": "stream",
          "name": "stdout",
          "text": [
            "Mounted at /content/gdrive\n"
          ]
        }
      ]
    },
    {
      "cell_type": "markdown",
      "metadata": {
        "id": "KN8Ud050qB4p"
      },
      "source": [
        "# Single image to MPI example Colab\n",
        "\n",
        "This Colab is part of code for the paper ___Single-view view synthesis with multiplane images___, and may be found at <br>https://github.com/google-research/google-research/tree/master/single_view_mpi.\n",
        "\n",
        "The project site is at https://single-view-mpi.github.io/.\n",
        "\n",
        "Choose __Run all__ from the Runtime menu to:\n",
        "* set up the network and load our trained model,\n",
        "* apply it to an RGB input to generate a 32-layer MPI,\n",
        "* show individual MPI layers and synthesized disparity,\n",
        "* render novel views from different camera positions,\n",
        "* visualize the resulting MPI in an HTML-based viewer.\n"
      ]
    },
    {
      "cell_type": "markdown",
      "metadata": {
        "id": "EpDKjdWWk7zi"
      },
      "source": [
        "## Download library code, model weights, and example image."
      ]
    },
    {
      "cell_type": "code",
      "execution_count": 2,
      "metadata": {
        "colab": {
          "base_uri": "https://localhost:8080/"
        },
        "id": "eKire3Obk2ra",
        "outputId": "1d9981b2-2ef4-4fa9-e369-6ae55cd17cbc"
      },
      "outputs": [
        {
          "output_type": "stream",
          "name": "stdout",
          "text": [
            "Fetching code from github...\n",
            "Reading package lists... Done\n",
            "Building dependency tree       \n",
            "Reading state information... Done\n",
            "The following additional packages will be installed:\n",
            "  libapr1 libaprutil1 libserf-1-1 libsvn1\n",
            "Suggested packages:\n",
            "  db5.3-util libapache2-mod-svn subversion-tools\n",
            "The following NEW packages will be installed:\n",
            "  libapr1 libaprutil1 libserf-1-1 libsvn1 subversion\n",
            "0 upgraded, 5 newly installed, 0 to remove and 39 not upgraded.\n",
            "Need to get 2,237 kB of archives.\n",
            "After this operation, 9,910 kB of additional disk space will be used.\n",
            "Get:1 http://archive.ubuntu.com/ubuntu bionic/main amd64 libapr1 amd64 1.6.3-2 [90.9 kB]\n",
            "Get:2 http://archive.ubuntu.com/ubuntu bionic/main amd64 libaprutil1 amd64 1.6.1-2 [84.4 kB]\n",
            "Get:3 http://archive.ubuntu.com/ubuntu bionic/universe amd64 libserf-1-1 amd64 1.3.9-6 [44.4 kB]\n",
            "Get:4 http://archive.ubuntu.com/ubuntu bionic/universe amd64 libsvn1 amd64 1.9.7-4ubuntu1 [1,183 kB]\n",
            "Get:5 http://archive.ubuntu.com/ubuntu bionic/universe amd64 subversion amd64 1.9.7-4ubuntu1 [834 kB]\n",
            "Fetched 2,237 kB in 1s (1,871 kB/s)\n",
            "Selecting previously unselected package libapr1:amd64.\n",
            "(Reading database ... 155335 files and directories currently installed.)\n",
            "Preparing to unpack .../libapr1_1.6.3-2_amd64.deb ...\n",
            "Unpacking libapr1:amd64 (1.6.3-2) ...\n",
            "Selecting previously unselected package libaprutil1:amd64.\n",
            "Preparing to unpack .../libaprutil1_1.6.1-2_amd64.deb ...\n",
            "Unpacking libaprutil1:amd64 (1.6.1-2) ...\n",
            "Selecting previously unselected package libserf-1-1:amd64.\n",
            "Preparing to unpack .../libserf-1-1_1.3.9-6_amd64.deb ...\n",
            "Unpacking libserf-1-1:amd64 (1.3.9-6) ...\n",
            "Selecting previously unselected package libsvn1:amd64.\n",
            "Preparing to unpack .../libsvn1_1.9.7-4ubuntu1_amd64.deb ...\n",
            "Unpacking libsvn1:amd64 (1.9.7-4ubuntu1) ...\n",
            "Selecting previously unselected package subversion.\n",
            "Preparing to unpack .../subversion_1.9.7-4ubuntu1_amd64.deb ...\n",
            "Unpacking subversion (1.9.7-4ubuntu1) ...\n",
            "Setting up libapr1:amd64 (1.6.3-2) ...\n",
            "Setting up libaprutil1:amd64 (1.6.1-2) ...\n",
            "Setting up libserf-1-1:amd64 (1.3.9-6) ...\n",
            "Setting up libsvn1:amd64 (1.9.7-4ubuntu1) ...\n",
            "Setting up subversion (1.9.7-4ubuntu1) ...\n",
            "Processing triggers for libc-bin (2.27-3ubuntu1.3) ...\n",
            "/sbin/ldconfig.real: /usr/local/lib/python3.7/dist-packages/ideep4py/lib/libmkldnn.so.0 is not a symbolic link\n",
            "\n",
            "Processing triggers for man-db (2.8.3-2ubuntu0.1) ...\n",
            "A    single_view_mpi\n",
            "A    single_view_mpi/README.md\n",
            "A    single_view_mpi/example.ipynb\n",
            "A    single_view_mpi/libs\n",
            "A    single_view_mpi/libs/geometry.py\n",
            "A    single_view_mpi/libs/geometry_test.py\n",
            "A    single_view_mpi/libs/mpi.py\n",
            "A    single_view_mpi/libs/mpi_test.py\n",
            "A    single_view_mpi/libs/nets.py\n",
            "A    single_view_mpi/libs/utils.py\n",
            "A    single_view_mpi/libs/utils_test.py\n",
            "A    single_view_mpi/requirements.txt\n",
            "A    single_view_mpi/run.sh\n",
            "Exported revision 9640.\n",
            "\n",
            "Fetching trained model weights...\n",
            "rm: cannot remove 'single_view_mpi_full_keras.tar.gz': No such file or directory\n",
            "--2022-03-18 06:18:14--  https://storage.googleapis.com/stereo-magnification-public-files/models/single_view_mpi_full_keras.tar.gz\n",
            "Resolving storage.googleapis.com (storage.googleapis.com)... 209.85.147.128, 142.250.136.128, 142.250.148.128, ...\n",
            "Connecting to storage.googleapis.com (storage.googleapis.com)|209.85.147.128|:443... connected.\n",
            "HTTP request sent, awaiting response... 200 OK\n",
            "Length: 161684857 (154M) [application/x-gzip]\n",
            "Saving to: ‘single_view_mpi_full_keras.tar.gz’\n",
            "\n",
            "single_view_mpi_ful 100%[===================>] 154.19M   154MB/s    in 1.0s    \n",
            "\n",
            "2022-03-18 06:18:15 (154 MB/s) - ‘single_view_mpi_full_keras.tar.gz’ saved [161684857/161684857]\n",
            "\n",
            "single_view_mpi_full_keras/\n",
            "single_view_mpi_full_keras/._checkpoint\n",
            "single_view_mpi_full_keras/checkpoint\n",
            "single_view_mpi_full_keras/._single_view_mpi_keras_weights.index\n",
            "single_view_mpi_full_keras/single_view_mpi_keras_weights.index\n",
            "single_view_mpi_full_keras/._single_view_mpi_keras_weights.data-00000-of-00001\n",
            "single_view_mpi_full_keras/single_view_mpi_keras_weights.data-00000-of-00001\n",
            "\n",
            "Fetching example image...\n",
            "--2022-03-18 06:18:18--  https://single-view-mpi.github.io/mpi/7/input.png\n",
            "Resolving single-view-mpi.github.io (single-view-mpi.github.io)... 185.199.108.153, 185.199.109.153, 185.199.110.153, ...\n",
            "Connecting to single-view-mpi.github.io (single-view-mpi.github.io)|185.199.108.153|:443... connected.\n",
            "HTTP request sent, awaiting response... 200 OK\n",
            "Length: 350399 (342K) [image/png]\n",
            "Saving to: ‘input.png’\n",
            "\n",
            "input.png           100%[===================>] 342.19K  --.-KB/s    in 0.03s   \n",
            "\n",
            "2022-03-18 06:18:18 (10.5 MB/s) - ‘input.png’ saved [350399/350399]\n",
            "\n"
          ]
        }
      ],
      "source": [
        "!echo Fetching code from github...\n",
        "!apt install subversion\n",
        "!svn export --force https://github.com/google-research/google-research/trunk/single_view_mpi\n",
        "\n",
        "!echo\n",
        "!echo Fetching trained model weights...\n",
        "!rm single_view_mpi_full_keras.tar.gz\n",
        "!rm -rf single_view_mpi_full\n",
        "!wget https://storage.googleapis.com/stereo-magnification-public-files/models/single_view_mpi_full_keras.tar.gz\n",
        "!tar -xzvf single_view_mpi_full_keras.tar.gz\n",
        "\n",
        "!echo\n",
        "!echo Fetching example image...\n",
        "!rm -f input.png\n",
        "!wget https://single-view-mpi.github.io/mpi/7/input.png\n"
      ]
    },
    {
      "cell_type": "markdown",
      "metadata": {
        "id": "DLxv0DvYqGhy"
      },
      "source": [
        "## Set up the model\n"
      ]
    },
    {
      "cell_type": "code",
      "execution_count": 3,
      "metadata": {
        "colab": {
          "base_uri": "https://localhost:8080/"
        },
        "id": "saA4-roFkvsA",
        "outputId": "ad861db4-ccc9-400e-e13a-b2232b497584"
      },
      "outputs": [
        {
          "output_type": "stream",
          "name": "stdout",
          "text": [
            "Collecting tensorflow==2.2.0\n",
            "  Downloading tensorflow-2.2.0-cp37-cp37m-manylinux2010_x86_64.whl (516.2 MB)\n",
            "\u001b[K     |████████████████████████████████| 516.2 MB 4.1 kB/s \n",
            "\u001b[?25hCollecting tensorflow-addons==0.10.0\n",
            "  Downloading tensorflow_addons-0.10.0-cp37-cp37m-manylinux2010_x86_64.whl (1.0 MB)\n",
            "\u001b[K     |████████████████████████████████| 1.0 MB 37.7 MB/s \n",
            "\u001b[?25hRequirement already satisfied: keras-preprocessing>=1.1.0 in /usr/local/lib/python3.7/dist-packages (from tensorflow==2.2.0->-r single_view_mpi/requirements.txt (line 1)) (1.1.2)\n",
            "Requirement already satisfied: opt-einsum>=2.3.2 in /usr/local/lib/python3.7/dist-packages (from tensorflow==2.2.0->-r single_view_mpi/requirements.txt (line 1)) (3.3.0)\n",
            "Requirement already satisfied: scipy==1.4.1 in /usr/local/lib/python3.7/dist-packages (from tensorflow==2.2.0->-r single_view_mpi/requirements.txt (line 1)) (1.4.1)\n",
            "Collecting tensorflow-estimator<2.3.0,>=2.2.0\n",
            "  Downloading tensorflow_estimator-2.2.0-py2.py3-none-any.whl (454 kB)\n",
            "\u001b[K     |████████████████████████████████| 454 kB 25.2 MB/s \n",
            "\u001b[?25hRequirement already satisfied: astunparse==1.6.3 in /usr/local/lib/python3.7/dist-packages (from tensorflow==2.2.0->-r single_view_mpi/requirements.txt (line 1)) (1.6.3)\n",
            "Requirement already satisfied: grpcio>=1.8.6 in /usr/local/lib/python3.7/dist-packages (from tensorflow==2.2.0->-r single_view_mpi/requirements.txt (line 1)) (1.44.0)\n",
            "Requirement already satisfied: google-pasta>=0.1.8 in /usr/local/lib/python3.7/dist-packages (from tensorflow==2.2.0->-r single_view_mpi/requirements.txt (line 1)) (0.2.0)\n",
            "Requirement already satisfied: termcolor>=1.1.0 in /usr/local/lib/python3.7/dist-packages (from tensorflow==2.2.0->-r single_view_mpi/requirements.txt (line 1)) (1.1.0)\n",
            "Requirement already satisfied: numpy<2.0,>=1.16.0 in /usr/local/lib/python3.7/dist-packages (from tensorflow==2.2.0->-r single_view_mpi/requirements.txt (line 1)) (1.21.5)\n",
            "Requirement already satisfied: six>=1.12.0 in /usr/local/lib/python3.7/dist-packages (from tensorflow==2.2.0->-r single_view_mpi/requirements.txt (line 1)) (1.15.0)\n",
            "Requirement already satisfied: absl-py>=0.7.0 in /usr/local/lib/python3.7/dist-packages (from tensorflow==2.2.0->-r single_view_mpi/requirements.txt (line 1)) (1.0.0)\n",
            "Requirement already satisfied: wrapt>=1.11.1 in /usr/local/lib/python3.7/dist-packages (from tensorflow==2.2.0->-r single_view_mpi/requirements.txt (line 1)) (1.13.3)\n",
            "Requirement already satisfied: wheel>=0.26 in /usr/local/lib/python3.7/dist-packages (from tensorflow==2.2.0->-r single_view_mpi/requirements.txt (line 1)) (0.37.1)\n",
            "Collecting tensorboard<2.3.0,>=2.2.0\n",
            "  Downloading tensorboard-2.2.2-py3-none-any.whl (3.0 MB)\n",
            "\u001b[K     |████████████████████████████████| 3.0 MB 34.3 MB/s \n",
            "\u001b[?25hCollecting gast==0.3.3\n",
            "  Downloading gast-0.3.3-py2.py3-none-any.whl (9.7 kB)\n",
            "Requirement already satisfied: protobuf>=3.8.0 in /usr/local/lib/python3.7/dist-packages (from tensorflow==2.2.0->-r single_view_mpi/requirements.txt (line 1)) (3.17.3)\n",
            "Collecting h5py<2.11.0,>=2.10.0\n",
            "  Downloading h5py-2.10.0-cp37-cp37m-manylinux1_x86_64.whl (2.9 MB)\n",
            "\u001b[K     |████████████████████████████████| 2.9 MB 22.3 MB/s \n",
            "\u001b[?25hRequirement already satisfied: typeguard>=2.7 in /usr/local/lib/python3.7/dist-packages (from tensorflow-addons==0.10.0->-r single_view_mpi/requirements.txt (line 2)) (2.7.1)\n",
            "Requirement already satisfied: google-auth<2,>=1.6.3 in /usr/local/lib/python3.7/dist-packages (from tensorboard<2.3.0,>=2.2.0->tensorflow==2.2.0->-r single_view_mpi/requirements.txt (line 1)) (1.35.0)\n",
            "Requirement already satisfied: markdown>=2.6.8 in /usr/local/lib/python3.7/dist-packages (from tensorboard<2.3.0,>=2.2.0->tensorflow==2.2.0->-r single_view_mpi/requirements.txt (line 1)) (3.3.6)\n",
            "Requirement already satisfied: werkzeug>=0.11.15 in /usr/local/lib/python3.7/dist-packages (from tensorboard<2.3.0,>=2.2.0->tensorflow==2.2.0->-r single_view_mpi/requirements.txt (line 1)) (1.0.1)\n",
            "Requirement already satisfied: requests<3,>=2.21.0 in /usr/local/lib/python3.7/dist-packages (from tensorboard<2.3.0,>=2.2.0->tensorflow==2.2.0->-r single_view_mpi/requirements.txt (line 1)) (2.23.0)\n",
            "Requirement already satisfied: setuptools>=41.0.0 in /usr/local/lib/python3.7/dist-packages (from tensorboard<2.3.0,>=2.2.0->tensorflow==2.2.0->-r single_view_mpi/requirements.txt (line 1)) (57.4.0)\n",
            "Requirement already satisfied: tensorboard-plugin-wit>=1.6.0 in /usr/local/lib/python3.7/dist-packages (from tensorboard<2.3.0,>=2.2.0->tensorflow==2.2.0->-r single_view_mpi/requirements.txt (line 1)) (1.8.1)\n",
            "Requirement already satisfied: google-auth-oauthlib<0.5,>=0.4.1 in /usr/local/lib/python3.7/dist-packages (from tensorboard<2.3.0,>=2.2.0->tensorflow==2.2.0->-r single_view_mpi/requirements.txt (line 1)) (0.4.6)\n",
            "Requirement already satisfied: pyasn1-modules>=0.2.1 in /usr/local/lib/python3.7/dist-packages (from google-auth<2,>=1.6.3->tensorboard<2.3.0,>=2.2.0->tensorflow==2.2.0->-r single_view_mpi/requirements.txt (line 1)) (0.2.8)\n",
            "Requirement already satisfied: rsa<5,>=3.1.4 in /usr/local/lib/python3.7/dist-packages (from google-auth<2,>=1.6.3->tensorboard<2.3.0,>=2.2.0->tensorflow==2.2.0->-r single_view_mpi/requirements.txt (line 1)) (4.8)\n",
            "Requirement already satisfied: cachetools<5.0,>=2.0.0 in /usr/local/lib/python3.7/dist-packages (from google-auth<2,>=1.6.3->tensorboard<2.3.0,>=2.2.0->tensorflow==2.2.0->-r single_view_mpi/requirements.txt (line 1)) (4.2.4)\n",
            "Requirement already satisfied: requests-oauthlib>=0.7.0 in /usr/local/lib/python3.7/dist-packages (from google-auth-oauthlib<0.5,>=0.4.1->tensorboard<2.3.0,>=2.2.0->tensorflow==2.2.0->-r single_view_mpi/requirements.txt (line 1)) (1.3.1)\n",
            "Requirement already satisfied: importlib-metadata>=4.4 in /usr/local/lib/python3.7/dist-packages (from markdown>=2.6.8->tensorboard<2.3.0,>=2.2.0->tensorflow==2.2.0->-r single_view_mpi/requirements.txt (line 1)) (4.11.2)\n",
            "Requirement already satisfied: typing-extensions>=3.6.4 in /usr/local/lib/python3.7/dist-packages (from importlib-metadata>=4.4->markdown>=2.6.8->tensorboard<2.3.0,>=2.2.0->tensorflow==2.2.0->-r single_view_mpi/requirements.txt (line 1)) (3.10.0.2)\n",
            "Requirement already satisfied: zipp>=0.5 in /usr/local/lib/python3.7/dist-packages (from importlib-metadata>=4.4->markdown>=2.6.8->tensorboard<2.3.0,>=2.2.0->tensorflow==2.2.0->-r single_view_mpi/requirements.txt (line 1)) (3.7.0)\n",
            "Requirement already satisfied: pyasn1<0.5.0,>=0.4.6 in /usr/local/lib/python3.7/dist-packages (from pyasn1-modules>=0.2.1->google-auth<2,>=1.6.3->tensorboard<2.3.0,>=2.2.0->tensorflow==2.2.0->-r single_view_mpi/requirements.txt (line 1)) (0.4.8)\n",
            "Requirement already satisfied: chardet<4,>=3.0.2 in /usr/local/lib/python3.7/dist-packages (from requests<3,>=2.21.0->tensorboard<2.3.0,>=2.2.0->tensorflow==2.2.0->-r single_view_mpi/requirements.txt (line 1)) (3.0.4)\n",
            "Requirement already satisfied: idna<3,>=2.5 in /usr/local/lib/python3.7/dist-packages (from requests<3,>=2.21.0->tensorboard<2.3.0,>=2.2.0->tensorflow==2.2.0->-r single_view_mpi/requirements.txt (line 1)) (2.10)\n",
            "Requirement already satisfied: urllib3!=1.25.0,!=1.25.1,<1.26,>=1.21.1 in /usr/local/lib/python3.7/dist-packages (from requests<3,>=2.21.0->tensorboard<2.3.0,>=2.2.0->tensorflow==2.2.0->-r single_view_mpi/requirements.txt (line 1)) (1.24.3)\n",
            "Requirement already satisfied: certifi>=2017.4.17 in /usr/local/lib/python3.7/dist-packages (from requests<3,>=2.21.0->tensorboard<2.3.0,>=2.2.0->tensorflow==2.2.0->-r single_view_mpi/requirements.txt (line 1)) (2021.10.8)\n",
            "Requirement already satisfied: oauthlib>=3.0.0 in /usr/local/lib/python3.7/dist-packages (from requests-oauthlib>=0.7.0->google-auth-oauthlib<0.5,>=0.4.1->tensorboard<2.3.0,>=2.2.0->tensorflow==2.2.0->-r single_view_mpi/requirements.txt (line 1)) (3.2.0)\n",
            "Installing collected packages: tensorflow-estimator, tensorboard, h5py, gast, tensorflow-addons, tensorflow\n",
            "  Attempting uninstall: tensorflow-estimator\n",
            "    Found existing installation: tensorflow-estimator 2.8.0\n",
            "    Uninstalling tensorflow-estimator-2.8.0:\n",
            "      Successfully uninstalled tensorflow-estimator-2.8.0\n",
            "  Attempting uninstall: tensorboard\n",
            "    Found existing installation: tensorboard 2.8.0\n",
            "    Uninstalling tensorboard-2.8.0:\n",
            "      Successfully uninstalled tensorboard-2.8.0\n",
            "  Attempting uninstall: h5py\n",
            "    Found existing installation: h5py 3.1.0\n",
            "    Uninstalling h5py-3.1.0:\n",
            "      Successfully uninstalled h5py-3.1.0\n",
            "  Attempting uninstall: gast\n",
            "    Found existing installation: gast 0.5.3\n",
            "    Uninstalling gast-0.5.3:\n",
            "      Successfully uninstalled gast-0.5.3\n",
            "  Attempting uninstall: tensorflow\n",
            "    Found existing installation: tensorflow 2.8.0\n",
            "    Uninstalling tensorflow-2.8.0:\n",
            "      Successfully uninstalled tensorflow-2.8.0\n",
            "Successfully installed gast-0.3.3 h5py-2.10.0 tensorboard-2.2.2 tensorflow-2.2.0 tensorflow-addons-0.10.0 tensorflow-estimator-2.2.0\n"
          ]
        }
      ],
      "source": [
        "pip install -r single_view_mpi/requirements.txt"
      ]
    },
    {
      "cell_type": "code",
      "execution_count": 4,
      "metadata": {
        "cellView": "both",
        "colab": {
          "base_uri": "https://localhost:8080/"
        },
        "id": "VlX8AfkNzHfR",
        "outputId": "bc451fa8-1a0f-46f9-d35d-4af381e1e755"
      },
      "outputs": [
        {
          "output_type": "stream",
          "name": "stdout",
          "text": [
            "Model created.\n",
            "Weights loaded.\n"
          ]
        }
      ],
      "source": [
        "import tensorflow as tf\n",
        "\n",
        "from single_view_mpi.libs import mpi\n",
        "from single_view_mpi.libs import nets\n",
        "\n",
        "input = tf.keras.Input(shape=(None, None, 3))\n",
        "output = nets.mpi_from_image(input)\n",
        "\n",
        "model = tf.keras.Model(inputs=input, outputs=output)\n",
        "print('Model created.')\n",
        "# Our full model, trained on RealEstate10K.\n",
        "model.load_weights('single_view_mpi_full_keras/single_view_mpi_keras_weights')\n",
        "print('Weights loaded.')\n"
      ]
    },
    {
      "cell_type": "markdown",
      "source": [
        "# Load the samples of data we want to analyze"
      ],
      "metadata": {
        "id": "1EKwkCCIrk6a"
      }
    },
    {
      "cell_type": "code",
      "source": [
        "import os\n",
        "FILE_PATH = \"gdrive/MyDrive/cs 231a/impressionist_landscapes_resized_1024/\"\n",
        "os.chdir(FILE_PATH)"
      ],
      "metadata": {
        "colab": {
          "base_uri": "https://localhost:8080/",
          "height": 191
        },
        "id": "Gttp7bK7rocE",
        "outputId": "33e5c82d-d2c9-4f35-ecf3-a1d352672e34"
      },
      "execution_count": 16,
      "outputs": [
        {
          "output_type": "error",
          "ename": "FileNotFoundError",
          "evalue": "ignored",
          "traceback": [
            "\u001b[0;31m---------------------------------------------------------------------------\u001b[0m",
            "\u001b[0;31mFileNotFoundError\u001b[0m                         Traceback (most recent call last)",
            "\u001b[0;32m<ipython-input-16-e31511f767cd>\u001b[0m in \u001b[0;36m<module>\u001b[0;34m()\u001b[0m\n\u001b[1;32m      1\u001b[0m \u001b[0;32mimport\u001b[0m \u001b[0mos\u001b[0m\u001b[0;34m\u001b[0m\u001b[0;34m\u001b[0m\u001b[0m\n\u001b[1;32m      2\u001b[0m \u001b[0mFILE_PATH\u001b[0m \u001b[0;34m=\u001b[0m \u001b[0;34m\"gdrive/MyDrive/cs 231a/impressionist_landscapes_resized_1024/\"\u001b[0m\u001b[0;34m\u001b[0m\u001b[0;34m\u001b[0m\u001b[0m\n\u001b[0;32m----> 3\u001b[0;31m \u001b[0mos\u001b[0m\u001b[0;34m.\u001b[0m\u001b[0mchdir\u001b[0m\u001b[0;34m(\u001b[0m\u001b[0mFILE_PATH\u001b[0m\u001b[0;34m)\u001b[0m\u001b[0;34m\u001b[0m\u001b[0;34m\u001b[0m\u001b[0m\n\u001b[0m",
            "\u001b[0;31mFileNotFoundError\u001b[0m: [Errno 2] No such file or directory: 'gdrive/MyDrive/cs 231a/impressionist_landscapes_resized_1024/'"
          ]
        }
      ]
    },
    {
      "cell_type": "code",
      "source": [
        "paintings = os.listdir()\n",
        "paintings[0]"
      ],
      "metadata": {
        "colab": {
          "base_uri": "https://localhost:8080/",
          "height": 34
        },
        "id": "1LkEIvVwscpb",
        "outputId": "a60eb9b7-9786-47d3-b01b-1ca05f10ff87"
      },
      "execution_count": 11,
      "outputs": [
        {
          "output_type": "execute_result",
          "data": {
            "text/plain": [
              "'guy-rose_a-carmel-pine-1918.jpg'"
            ],
            "application/vnd.google.colaboratory.intrinsic+json": {
              "type": "string"
            }
          },
          "metadata": {},
          "execution_count": 11
        }
      ]
    },
    {
      "cell_type": "code",
      "source": [
        "len(paintings)"
      ],
      "metadata": {
        "colab": {
          "base_uri": "https://localhost:8080/"
        },
        "id": "da9fCIzUse4F",
        "outputId": "6aa7690e-9d91-4cf2-b5de-ade885b8c183"
      },
      "execution_count": 12,
      "outputs": [
        {
          "output_type": "execute_result",
          "data": {
            "text/plain": [
              "1331"
            ]
          },
          "metadata": {},
          "execution_count": 12
        }
      ]
    },
    {
      "cell_type": "code",
      "source": [
        "import random\n",
        "sample_sz = 100\n",
        "random_sample = random.sample(paintings, sample_sz)\n",
        "random_sample"
      ],
      "metadata": {
        "colab": {
          "base_uri": "https://localhost:8080/"
        },
        "id": "EX-NKIs6shJ0",
        "outputId": "b240f25a-205c-477f-ba31-9f11d161dfe7"
      },
      "execution_count": 22,
      "outputs": [
        {
          "output_type": "execute_result",
          "data": {
            "text/plain": [
              "['georges-seurat_the-river-seine-at-la-grande-jatte-1888.jpg',\n",
              " 'piet-mondrian_wood-with-beech-trees.jpg',\n",
              " 'claude-monet_landscape-at-port-villez-1.jpg',\n",
              " 'henri-edmond-cross_untitled.jpg',\n",
              " 'giuseppe-de-nittis_lungo-l-ofanto.jpg',\n",
              " 'eugene-boudin_near-antibes-1893.jpg',\n",
              " 'camille-pissarro_the-garden-at-pontoise-1877.jpg',\n",
              " 'camille-pissarro_the-fields-of-eragny-the-apple-tree-1894.jpg',\n",
              " 'robert-lewis-reid_landscape-with-waterfall-1890.jpg',\n",
              " 'john-singer-sargent_corfu-the-terrace-1909.jpg',\n",
              " 'maximilien-luce_terril-de-charbonnage-1896.jpg',\n",
              " 'maximilien-luce_the-shepherd-observing-the-sea-1906.jpg',\n",
              " 'pierre-auguste-renoir_cliffs-1883.jpg',\n",
              " 'camille-pissarro_road-in-port-maryl-1872.jpg',\n",
              " 'camille-pissarro_white-horse-on-a-farm.jpg',\n",
              " 'pierre-auguste-renoir_cagnes.jpg',\n",
              " 'piet-mondrian_at-the-amstel-sun.jpg',\n",
              " 'alfred-sisley_on-the-banks-of-the-river-loing.jpg',\n",
              " 'claude-monet_cliffs-at-pourville-in-the-fog.jpg',\n",
              " 'gustave-caillebotte_the-yerres-rain.jpg',\n",
              " 'jose-maria-velasco_p-rfidos-del-tepeyac-1894.jpg',\n",
              " 'vincent-van-gogh_straw-hats-at-dusk-1885.jpg',\n",
              " 'emilie-charmy_marnat-1914.jpg',\n",
              " 'john-singer-sargent_the-dead-sea-1905.jpg',\n",
              " 'eugene-boudin_the-saint-simeon-farm-1860.jpg',\n",
              " 'camille-pissarro_a-cottage-in-the-snow-1879.jpg',\n",
              " 'louis-hayet_mountain-landscape-1890.jpg',\n",
              " 'claude-monet_sailboats-at-sea-pourville.jpg',\n",
              " 'claude-monet_the-water-lily-pond-x-1919.jpg',\n",
              " 'vincent-van-gogh_the-mill-of-alphonse-daudet-at-fontevieille-1888.jpg',\n",
              " 'claude-monet_river-thawing-near-vetheuil.jpg',\n",
              " 'pierre-auguste-renoir_the-clearing-1895.jpg',\n",
              " 'pierre-bonnard_landscape-sunset-1912.jpg',\n",
              " 'robert-julian-onderdonk_morning-in-the-hills-southwest-texas.jpg',\n",
              " 'claude-monet_the-corniche-of-monaco.jpg',\n",
              " 'benjamin-brown_laguna-vista-1915.jpg',\n",
              " 'paul-gauguin_autumn-landscape-farm-and-pond-1877.jpg',\n",
              " 'gustave-loiseau_oise-at-pontoise-1900.jpg',\n",
              " 'samuel-peploe_landscape-cassis-france-1924.jpg',\n",
              " 'childe-hassam_the-island-garden.jpg',\n",
              " 'alfred-sisley_the-straw-rent-1888.jpg',\n",
              " 'charles-francois-daubigny_rising-moon-in-barbizon.jpg',\n",
              " 'pierre-auguste-renoir_the-bay.jpg',\n",
              " 'paul-cezanne_chateau-noir-3.jpg',\n",
              " 'camille-pissarro_le-valhermeil-near-pontoise-1880.jpg',\n",
              " 'paul-cezanne_mont-sainte-victoire.jpg',\n",
              " 'vincent-van-gogh_cottage-with-trees-1885-1.jpg',\n",
              " 'jose-maria-velasco_r-o-de-san-ngel.jpg',\n",
              " 'eugene-boudin_fishermen-and-sailboats-near-trouville-1892.jpg',\n",
              " 'vincent-van-gogh_farmhouse-with-two-figures-1890.jpg',\n",
              " 'camille-pissarro_landscape-bright-sunlight-pontoise-1874.jpg',\n",
              " 'pierre-auguste-renoir_windmill.jpg',\n",
              " 'lilla-cabot-perry_the-state-house-1910.jpg',\n",
              " 'alfred-sisley_spring-on-the-loing-river-1885.jpg',\n",
              " 'claude-monet_the-japanese-bridge.jpg',\n",
              " 'paul-gauguin_hillside-1884.jpg',\n",
              " 'jose-maria-velasco_la-puesta-del-sol-1894.jpg',\n",
              " 'emily-carr_vanquished-1931.jpg',\n",
              " 'maximilien-luce_la-plaine-aux-environs-de-rolleboise.jpg',\n",
              " 'jose-maria-velasco_pe-ascos-del-cerro-de-atzacoalco-2.jpg',\n",
              " 'telemaco-signorini_riomaggiore-et-son-vignoble-1894.jpg',\n",
              " 'alfred-sisley_the-marly-machine-and-the-dam-1875.jpg',\n",
              " 'pierre-auguste-renoir_landscape-near-varengeville-1885.jpg',\n",
              " 'claude-monet_valley-of-the-creuse-sunlight-effect.jpg',\n",
              " 'camille-pissarro_landscape-near-louveciennes-1870.jpg',\n",
              " 'alfred-sisley_high-wind-1897.jpg',\n",
              " 'john-singer-sargent_a-waterfall-1910.jpg',\n",
              " 'victor-borisov-musatov_window-1886.jpg',\n",
              " 'pierre-auguste-renoir_landscape-1881-1.jpg',\n",
              " 'valentin-serov_the-overgrown-pond-domotcanovo-1888.jpg',\n",
              " 'konstantin-korovin_murmansk-coast-1894.jpg',\n",
              " 'claude-monet_the-japanese-bridge-the-water-lily-pond-water-irises.jpg',\n",
              " 'paul-gauguin_swineherd-brittany-1888.jpg',\n",
              " 't-c-steele_the-grist-mill-1901.jpg',\n",
              " 'francis-picabia_saint-tropez-1.jpg',\n",
              " 'camille-pissarro_berneval-meadows-morning-1900.jpg',\n",
              " 'maurice-prendergast_house-by-the-sea.jpg',\n",
              " 'konstantin-korovin_barn-1900.jpg',\n",
              " 'gustave-courbet_waterfall-in-the-wood-1863.jpg',\n",
              " 'guy-rose_gathering-storm-high-seas.jpg',\n",
              " 'claude-monet_willows-giverny.jpg',\n",
              " 'armand-guillaumin_paysage-de-creuse-1897.jpg',\n",
              " 'jose-maria-velasco_vista-de-guelatao.jpg',\n",
              " 'gustave-loiseau_poplars-on-the-banks-of-the-eure-1903.jpg',\n",
              " 'georges-seurat_grandcamp-evening-1885.jpg',\n",
              " 'paul-cezanne_bend-in-forest-road-1906.jpg',\n",
              " 'camille-pissarro_meadows-at-eragny-1886.jpg',\n",
              " 'victor-borisov-musatov_a-caucasian-study-1895.jpg',\n",
              " 'gustave-loiseau_fog-morning-effect-1917.jpg',\n",
              " 'claude-monet_the-water-lily-pond-and-bridge-1905.jpg',\n",
              " 'claude-monet_the-mill-at-vervy.jpg',\n",
              " 'camille-pissarro_white-frost-at-eragny-1895.jpg',\n",
              " 'paul-cezanne_clearing-1867.jpg',\n",
              " 'armand-guillaumin_les-rochers-rouges-1894.jpg',\n",
              " 'eugene-boudin_cotenord.jpg',\n",
              " 'claude-monet_the-manneport-reflections-of-water.jpg',\n",
              " 'alfred-sisley_by-way-of-the-old-ferry-1880.jpg',\n",
              " 'gustave-loiseau_by-the-orne-river-near-caen.jpg',\n",
              " 'claude-monet_the-seine-at-bennecourt-winter.jpg',\n",
              " 'vincent-van-gogh_beach-sea-and-fishing-boats-1888.jpg']"
            ]
          },
          "metadata": {},
          "execution_count": 22
        }
      ]
    },
    {
      "cell_type": "markdown",
      "source": [
        "# Calculate PSNR and SSIM\n",
        "\n",
        "Sourced from: https://cvnote.ddlee.cc/2019/09/12/psnr-ssim-python"
      ],
      "metadata": {
        "id": "BkfEqFT2nb83"
      }
    },
    {
      "cell_type": "code",
      "execution_count": 23,
      "metadata": {
        "id": "h1xuQHy7Ggw2"
      },
      "outputs": [],
      "source": [
        "import math\n",
        "import numpy as np\n",
        "\n",
        "def calculate_psnr(img1, img2):\n",
        "    # img1 and img2 have range [0, 255]\n",
        "    # img1 = img1.astype(np.float64)\n",
        "    # img2 = img2.astype(np.float64)\n",
        "    mse = np.mean((img1 - img2)**2)\n",
        "    if mse == 0:\n",
        "        return float('inf')\n",
        "    return 20 * math.log10(255.0 / math.sqrt(mse))\n",
        "\n",
        "import math\n",
        "import numpy as np\n",
        "import cv2\n",
        "\n",
        "def ssim(img1, img2):\n",
        "    C1 = (0.01 * 255)**2\n",
        "    C2 = (0.03 * 255)**2\n",
        "\n",
        "    # img1 = img1.astype(np.float64)\n",
        "    # img2 = img2.astype(np.float64)\n",
        "    kernel = cv2.getGaussianKernel(11, 1.5)\n",
        "    window = np.outer(kernel, kernel.transpose())\n",
        "\n",
        "    mu1 = cv2.filter2D(img1, -1, window)[5:-5, 5:-5]  # valid\n",
        "    mu2 = cv2.filter2D(img2, -1, window)[5:-5, 5:-5]\n",
        "    mu1_sq = mu1**2\n",
        "    mu2_sq = mu2**2\n",
        "    mu1_mu2 = mu1 * mu2\n",
        "    sigma1_sq = cv2.filter2D(img1**2, -1, window)[5:-5, 5:-5] - mu1_sq\n",
        "    sigma2_sq = cv2.filter2D(img2**2, -1, window)[5:-5, 5:-5] - mu2_sq\n",
        "    sigma12 = cv2.filter2D(img1 * img2, -1, window)[5:-5, 5:-5] - mu1_mu2\n",
        "\n",
        "    ssim_map = ((2 * mu1_mu2 + C1) * (2 * sigma12 + C2)) / ((mu1_sq + mu2_sq + C1) *\n",
        "                                                            (sigma1_sq + sigma2_sq + C2))\n",
        "    return ssim_map.mean()\n",
        "\n",
        "\n",
        "def calculate_ssim(img1, img2):\n",
        "    '''calculate SSIM\n",
        "    the same outputs as MATLAB's\n",
        "    img1, img2: [0, 255]\n",
        "    '''\n",
        "    if not img1.shape == img2.shape:\n",
        "        raise ValueError('Input images must have the same dimensions.')\n",
        "    if img1.ndim == 2:\n",
        "        return ssim(img1, img2)\n",
        "    elif img1.ndim == 3:\n",
        "        if img1.shape[2] == 3:\n",
        "            ssims = []\n",
        "            for i in range(3):\n",
        "                ssims.append(ssim(img1, img2))\n",
        "            return np.array(ssims).mean()\n",
        "        elif img1.shape[2] == 1:\n",
        "            return ssim(np.squeeze(img1), np.squeeze(img2))\n",
        "    else:\n",
        "        raise ValueError('Wrong input image dimensions.')"
      ]
    },
    {
      "cell_type": "code",
      "source": [
        "# calculate SSIM and PSNR for samples\n",
        "num_layers = 32\n",
        "ssims = np.zeros((sample_sz, num_layers))\n",
        "psnrs = np.zeros((sample_sz, num_layers))\n",
        "for i in range(sample_sz):\n",
        "  if (i % 10 == 0):\n",
        "    print(i)\n",
        "  # Input image\n",
        "  inputfile = random_sample[i]\n",
        "  input_rgb = tf.image.decode_image(tf.io.read_file(inputfile), dtype=tf.float32)\n",
        "\n",
        "  # Generate MPI\n",
        "  layers = model(input_rgb[tf.newaxis])[0]\n",
        "\n",
        "  # Note: this only selects RGB layers and not output\n",
        "\n",
        "  for j in range(len(layers)):\n",
        "    ssims[i][j] = calculate_ssim(input_rgb.numpy(), layers[j][:, :, 0:3].numpy())\n",
        "    psnrs[i][j] = calculate_psnr(input_rgb, layers[j][:, :, 0:3])\n",
        "\n",
        "print(\"mean ssim:\")\n",
        "print(ssims.mean())\n",
        "print(\"mean psnr:\")\n",
        "print(psnrs.mean())"
      ],
      "metadata": {
        "colab": {
          "base_uri": "https://localhost:8080/",
          "height": 414
        },
        "id": "AJ3wMY_ItKT4",
        "outputId": "7eb49ebe-a37c-4556-ca7e-7ced1c2dac79"
      },
      "execution_count": 27,
      "outputs": [
        {
          "output_type": "stream",
          "name": "stdout",
          "text": [
            "0\n",
            "10\n",
            "20\n"
          ]
        },
        {
          "output_type": "error",
          "ename": "KeyboardInterrupt",
          "evalue": "ignored",
          "traceback": [
            "\u001b[0;31m---------------------------------------------------------------------------\u001b[0m",
            "\u001b[0;31mKeyboardInterrupt\u001b[0m                         Traceback (most recent call last)",
            "\u001b[0;32m<ipython-input-27-98fcdf2f9646>\u001b[0m in \u001b[0;36m<module>\u001b[0;34m()\u001b[0m\n\u001b[1;32m     16\u001b[0m \u001b[0;34m\u001b[0m\u001b[0m\n\u001b[1;32m     17\u001b[0m   \u001b[0;32mfor\u001b[0m \u001b[0mj\u001b[0m \u001b[0;32min\u001b[0m \u001b[0mrange\u001b[0m\u001b[0;34m(\u001b[0m\u001b[0mlen\u001b[0m\u001b[0;34m(\u001b[0m\u001b[0mlayers\u001b[0m\u001b[0;34m)\u001b[0m\u001b[0;34m)\u001b[0m\u001b[0;34m:\u001b[0m\u001b[0;34m\u001b[0m\u001b[0;34m\u001b[0m\u001b[0m\n\u001b[0;32m---> 18\u001b[0;31m     \u001b[0mssims\u001b[0m\u001b[0;34m[\u001b[0m\u001b[0mi\u001b[0m\u001b[0;34m]\u001b[0m\u001b[0;34m[\u001b[0m\u001b[0mj\u001b[0m\u001b[0;34m]\u001b[0m \u001b[0;34m=\u001b[0m \u001b[0mcalculate_ssim\u001b[0m\u001b[0;34m(\u001b[0m\u001b[0minput_rgb\u001b[0m\u001b[0;34m.\u001b[0m\u001b[0mnumpy\u001b[0m\u001b[0;34m(\u001b[0m\u001b[0;34m)\u001b[0m\u001b[0;34m,\u001b[0m \u001b[0mlayers\u001b[0m\u001b[0;34m[\u001b[0m\u001b[0mj\u001b[0m\u001b[0;34m]\u001b[0m\u001b[0;34m[\u001b[0m\u001b[0;34m:\u001b[0m\u001b[0;34m,\u001b[0m \u001b[0;34m:\u001b[0m\u001b[0;34m,\u001b[0m \u001b[0;36m0\u001b[0m\u001b[0;34m:\u001b[0m\u001b[0;36m3\u001b[0m\u001b[0;34m]\u001b[0m\u001b[0;34m.\u001b[0m\u001b[0mnumpy\u001b[0m\u001b[0;34m(\u001b[0m\u001b[0;34m)\u001b[0m\u001b[0;34m)\u001b[0m\u001b[0;34m\u001b[0m\u001b[0;34m\u001b[0m\u001b[0m\n\u001b[0m\u001b[1;32m     19\u001b[0m     \u001b[0mpsnrs\u001b[0m\u001b[0;34m[\u001b[0m\u001b[0mi\u001b[0m\u001b[0;34m]\u001b[0m\u001b[0;34m[\u001b[0m\u001b[0mj\u001b[0m\u001b[0;34m]\u001b[0m \u001b[0;34m=\u001b[0m \u001b[0mcalculate_psnr\u001b[0m\u001b[0;34m(\u001b[0m\u001b[0minput_rgb\u001b[0m\u001b[0;34m,\u001b[0m \u001b[0mlayers\u001b[0m\u001b[0;34m[\u001b[0m\u001b[0mj\u001b[0m\u001b[0;34m]\u001b[0m\u001b[0;34m[\u001b[0m\u001b[0;34m:\u001b[0m\u001b[0;34m,\u001b[0m \u001b[0;34m:\u001b[0m\u001b[0;34m,\u001b[0m \u001b[0;36m0\u001b[0m\u001b[0;34m:\u001b[0m\u001b[0;36m3\u001b[0m\u001b[0;34m]\u001b[0m\u001b[0;34m)\u001b[0m\u001b[0;34m\u001b[0m\u001b[0;34m\u001b[0m\u001b[0m\n\u001b[1;32m     20\u001b[0m \u001b[0;34m\u001b[0m\u001b[0m\n",
            "\u001b[0;32m<ipython-input-23-9c7243d837d0>\u001b[0m in \u001b[0;36mcalculate_ssim\u001b[0;34m(img1, img2)\u001b[0m\n\u001b[1;32m     51\u001b[0m             \u001b[0mssims\u001b[0m \u001b[0;34m=\u001b[0m \u001b[0;34m[\u001b[0m\u001b[0;34m]\u001b[0m\u001b[0;34m\u001b[0m\u001b[0;34m\u001b[0m\u001b[0m\n\u001b[1;32m     52\u001b[0m             \u001b[0;32mfor\u001b[0m \u001b[0mi\u001b[0m \u001b[0;32min\u001b[0m \u001b[0mrange\u001b[0m\u001b[0;34m(\u001b[0m\u001b[0;36m3\u001b[0m\u001b[0;34m)\u001b[0m\u001b[0;34m:\u001b[0m\u001b[0;34m\u001b[0m\u001b[0;34m\u001b[0m\u001b[0m\n\u001b[0;32m---> 53\u001b[0;31m                 \u001b[0mssims\u001b[0m\u001b[0;34m.\u001b[0m\u001b[0mappend\u001b[0m\u001b[0;34m(\u001b[0m\u001b[0mssim\u001b[0m\u001b[0;34m(\u001b[0m\u001b[0mimg1\u001b[0m\u001b[0;34m,\u001b[0m \u001b[0mimg2\u001b[0m\u001b[0;34m)\u001b[0m\u001b[0;34m)\u001b[0m\u001b[0;34m\u001b[0m\u001b[0;34m\u001b[0m\u001b[0m\n\u001b[0m\u001b[1;32m     54\u001b[0m             \u001b[0;32mreturn\u001b[0m \u001b[0mnp\u001b[0m\u001b[0;34m.\u001b[0m\u001b[0marray\u001b[0m\u001b[0;34m(\u001b[0m\u001b[0mssims\u001b[0m\u001b[0;34m)\u001b[0m\u001b[0;34m.\u001b[0m\u001b[0mmean\u001b[0m\u001b[0;34m(\u001b[0m\u001b[0;34m)\u001b[0m\u001b[0;34m\u001b[0m\u001b[0;34m\u001b[0m\u001b[0m\n\u001b[1;32m     55\u001b[0m         \u001b[0;32melif\u001b[0m \u001b[0mimg1\u001b[0m\u001b[0;34m.\u001b[0m\u001b[0mshape\u001b[0m\u001b[0;34m[\u001b[0m\u001b[0;36m2\u001b[0m\u001b[0;34m]\u001b[0m \u001b[0;34m==\u001b[0m \u001b[0;36m1\u001b[0m\u001b[0;34m:\u001b[0m\u001b[0;34m\u001b[0m\u001b[0;34m\u001b[0m\u001b[0m\n",
            "\u001b[0;32m<ipython-input-23-9c7243d837d0>\u001b[0m in \u001b[0;36mssim\u001b[0;34m(img1, img2)\u001b[0m\n\u001b[1;32m     29\u001b[0m     \u001b[0mmu2_sq\u001b[0m \u001b[0;34m=\u001b[0m \u001b[0mmu2\u001b[0m\u001b[0;34m**\u001b[0m\u001b[0;36m2\u001b[0m\u001b[0;34m\u001b[0m\u001b[0;34m\u001b[0m\u001b[0m\n\u001b[1;32m     30\u001b[0m     \u001b[0mmu1_mu2\u001b[0m \u001b[0;34m=\u001b[0m \u001b[0mmu1\u001b[0m \u001b[0;34m*\u001b[0m \u001b[0mmu2\u001b[0m\u001b[0;34m\u001b[0m\u001b[0;34m\u001b[0m\u001b[0m\n\u001b[0;32m---> 31\u001b[0;31m     \u001b[0msigma1_sq\u001b[0m \u001b[0;34m=\u001b[0m \u001b[0mcv2\u001b[0m\u001b[0;34m.\u001b[0m\u001b[0mfilter2D\u001b[0m\u001b[0;34m(\u001b[0m\u001b[0mimg1\u001b[0m\u001b[0;34m**\u001b[0m\u001b[0;36m2\u001b[0m\u001b[0;34m,\u001b[0m \u001b[0;34m-\u001b[0m\u001b[0;36m1\u001b[0m\u001b[0;34m,\u001b[0m \u001b[0mwindow\u001b[0m\u001b[0;34m)\u001b[0m\u001b[0;34m[\u001b[0m\u001b[0;36m5\u001b[0m\u001b[0;34m:\u001b[0m\u001b[0;34m-\u001b[0m\u001b[0;36m5\u001b[0m\u001b[0;34m,\u001b[0m \u001b[0;36m5\u001b[0m\u001b[0;34m:\u001b[0m\u001b[0;34m-\u001b[0m\u001b[0;36m5\u001b[0m\u001b[0;34m]\u001b[0m \u001b[0;34m-\u001b[0m \u001b[0mmu1_sq\u001b[0m\u001b[0;34m\u001b[0m\u001b[0;34m\u001b[0m\u001b[0m\n\u001b[0m\u001b[1;32m     32\u001b[0m     \u001b[0msigma2_sq\u001b[0m \u001b[0;34m=\u001b[0m \u001b[0mcv2\u001b[0m\u001b[0;34m.\u001b[0m\u001b[0mfilter2D\u001b[0m\u001b[0;34m(\u001b[0m\u001b[0mimg2\u001b[0m\u001b[0;34m**\u001b[0m\u001b[0;36m2\u001b[0m\u001b[0;34m,\u001b[0m \u001b[0;34m-\u001b[0m\u001b[0;36m1\u001b[0m\u001b[0;34m,\u001b[0m \u001b[0mwindow\u001b[0m\u001b[0;34m)\u001b[0m\u001b[0;34m[\u001b[0m\u001b[0;36m5\u001b[0m\u001b[0;34m:\u001b[0m\u001b[0;34m-\u001b[0m\u001b[0;36m5\u001b[0m\u001b[0;34m,\u001b[0m \u001b[0;36m5\u001b[0m\u001b[0;34m:\u001b[0m\u001b[0;34m-\u001b[0m\u001b[0;36m5\u001b[0m\u001b[0;34m]\u001b[0m \u001b[0;34m-\u001b[0m \u001b[0mmu2_sq\u001b[0m\u001b[0;34m\u001b[0m\u001b[0;34m\u001b[0m\u001b[0m\n\u001b[1;32m     33\u001b[0m     \u001b[0msigma12\u001b[0m \u001b[0;34m=\u001b[0m \u001b[0mcv2\u001b[0m\u001b[0;34m.\u001b[0m\u001b[0mfilter2D\u001b[0m\u001b[0;34m(\u001b[0m\u001b[0mimg1\u001b[0m \u001b[0;34m*\u001b[0m \u001b[0mimg2\u001b[0m\u001b[0;34m,\u001b[0m \u001b[0;34m-\u001b[0m\u001b[0;36m1\u001b[0m\u001b[0;34m,\u001b[0m \u001b[0mwindow\u001b[0m\u001b[0;34m)\u001b[0m\u001b[0;34m[\u001b[0m\u001b[0;36m5\u001b[0m\u001b[0;34m:\u001b[0m\u001b[0;34m-\u001b[0m\u001b[0;36m5\u001b[0m\u001b[0;34m,\u001b[0m \u001b[0;36m5\u001b[0m\u001b[0;34m:\u001b[0m\u001b[0;34m-\u001b[0m\u001b[0;36m5\u001b[0m\u001b[0;34m]\u001b[0m \u001b[0;34m-\u001b[0m \u001b[0mmu1_mu2\u001b[0m\u001b[0;34m\u001b[0m\u001b[0;34m\u001b[0m\u001b[0m\n",
            "\u001b[0;31mKeyboardInterrupt\u001b[0m: "
          ]
        }
      ]
    },
    {
      "cell_type": "code",
      "source": [
        "print(\"mean ssim:\")\n",
        "print(ssims.mean())\n",
        "print(\"mean psnr:\")\n",
        "print(psnrs.mean())"
      ],
      "metadata": {
        "colab": {
          "base_uri": "https://localhost:8080/"
        },
        "id": "zLEdiUK6ysEg",
        "outputId": "dbf1ba8f-2d25-4a9b-c979-4263658adfcb"
      },
      "execution_count": 28,
      "outputs": [
        {
          "output_type": "stream",
          "name": "stdout",
          "text": [
            "mean ssim:\n",
            "0.2034299873933196\n",
            "mean psnr:\n",
            "inf\n"
          ]
        }
      ]
    },
    {
      "cell_type": "code",
      "source": [
        "psnrs"
      ],
      "metadata": {
        "colab": {
          "base_uri": "https://localhost:8080/"
        },
        "id": "FusG8BcVytNo",
        "outputId": "54cbb9e5-5535-4b63-abc7-157b46f8ffb0"
      },
      "execution_count": 29,
      "outputs": [
        {
          "output_type": "execute_result",
          "data": {
            "text/plain": [
              "array([[ 75.46670767,  75.47785671,  75.4981092 , ..., 115.01969813,\n",
              "        116.52811882,          inf],\n",
              "       [ 79.23494013,  79.26290074,  79.31002571, ..., 111.86418   ,\n",
              "        113.04810486,          inf],\n",
              "       [ 75.8513435 ,  75.86082165,  75.87739334, ..., 115.42871549,\n",
              "        116.74248132,          inf],\n",
              "       ...,\n",
              "       [  0.        ,   0.        ,   0.        , ...,   0.        ,\n",
              "          0.        ,   0.        ],\n",
              "       [  0.        ,   0.        ,   0.        , ...,   0.        ,\n",
              "          0.        ,   0.        ],\n",
              "       [  0.        ,   0.        ,   0.        , ...,   0.        ,\n",
              "          0.        ,   0.        ]])"
            ]
          },
          "metadata": {},
          "execution_count": 29
        }
      ]
    },
    {
      "cell_type": "code",
      "source": [
        "ssims"
      ],
      "metadata": {
        "colab": {
          "base_uri": "https://localhost:8080/"
        },
        "id": "SjUUUoouyypq",
        "outputId": "4d199b63-9062-471e-de9d-68fd1f17e509"
      },
      "execution_count": 31,
      "outputs": [
        {
          "output_type": "execute_result",
          "data": {
            "text/plain": [
              "array([[0.99990016, 0.9999004 , 0.99990064, ..., 1.        , 1.        ,\n",
              "        1.        ],\n",
              "       [0.99993515, 0.99993545, 0.99993616, ..., 1.        , 1.        ,\n",
              "        1.        ],\n",
              "       [0.99990267, 0.9999029 , 0.9999029 , ..., 1.        , 1.        ,\n",
              "        1.        ],\n",
              "       ...,\n",
              "       [0.        , 0.        , 0.        , ..., 0.        , 0.        ,\n",
              "        0.        ],\n",
              "       [0.        , 0.        , 0.        , ..., 0.        , 0.        ,\n",
              "        0.        ],\n",
              "       [0.        , 0.        , 0.        , ..., 0.        , 0.        ,\n",
              "        0.        ]])"
            ]
          },
          "metadata": {},
          "execution_count": 31
        }
      ]
    },
    {
      "cell_type": "code",
      "source": [
        ""
      ],
      "metadata": {
        "id": "O66UKN6Jy0wz"
      },
      "execution_count": null,
      "outputs": []
    }
  ],
  "metadata": {
    "accelerator": "GPU",
    "colab": {
      "collapsed_sections": [],
      "name": "SSIM and PSNR single-view-mpi_impressionist.ipynb",
      "provenance": []
    },
    "kernelspec": {
      "display_name": "Python 3",
      "name": "python3"
    }
  },
  "nbformat": 4,
  "nbformat_minor": 0
}